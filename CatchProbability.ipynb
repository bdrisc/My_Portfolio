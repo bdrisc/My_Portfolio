{
 "cells": [
  {
   "cell_type": "code",
   "execution_count": 23,
   "id": "6f4bab36-911f-4371-8623-a28c8bf6e8e0",
   "metadata": {},
   "outputs": [
    {
     "name": "stdout",
     "output_type": "stream",
     "text": [
      "Loading: C:\\Users\\brend\\OneDrive - Stonehill College\\All Cape League Trackman.xlsx\n",
      "Rows loaded: 55824\n"
     ]
    }
   ],
   "source": [
    "import pandas as pd\n",
    "import numpy as np\n",
    "import matplotlib.pyplot as plt\n",
    "from sklearn.linear_model import LogisticRegression\n",
    "from sklearn.model_selection import train_test_split\n",
    "import os\n",
    "\n",
    "INPUT_XLSX = r\"C:\\Users\\brend\\OneDrive - Stonehill College\\All Cape League Trackman.xlsx\"\n",
    "SHEET_NAME = 0\n",
    "OUTPUT_XLSX = \"catch_probability_results.xlsx\"\n",
    "MIN_OPPORTUNITY = 2\n",
    "MAX_ASN = 80\n",
    "MIN_HIT_LAND_CONF = 0.0  \n",
    "RANDOM_STATE = 42\n",
    "TEST_SIZE = 0.20\n",
    "\n",
    "print(\"Loading:\", INPUT_XLSX)\n",
    "df = pd.read_excel(INPUT_XLSX, sheet_name=SHEET_NAME, engine=\"openpyxl\")\n",
    "\n",
    "print(\"Rows loaded:\", len(df))"
   ]
  },
  {
   "cell_type": "code",
   "execution_count": 24,
   "id": "fe74c484-e38e-4223-ae3f-4b444173846f",
   "metadata": {},
   "outputs": [],
   "source": [
    "def col_exists(c):\n",
    "    return c in df.columns\n",
    "\n",
    "if not (col_exists(\"Distance\") and col_exists(\"Bearing\")):\n",
    "    raise ValueError(\"Your file must contain 'Distance' and 'Bearing' columns\")\n",
    "\n",
    "pos_list = []\n",
    "for pos in (\"LF\", \"CF\", \"RF\"):\n",
    "    xcol = f\"{pos}_PositionAtReleaseX\"\n",
    "    zcol = f\"{pos}_PositionAtReleaseZ\"\n",
    "    namecol = f\"{pos}_Name\"\n",
    "    if col_exists(xcol) and col_exists(zcol):\n",
    "        pos_list.append({\n",
    "            \"pos\": pos,\n",
    "            \"xcol\": xcol,\n",
    "            \"zcol\": zcol,\n",
    "            \"namecol\": namecol if col_exists(namecol) else None\n",
    "        })\n",
    "\n",
    "if len(pos_list) == 0:\n",
    "    raise ValueError(\n",
    "        \"No LF/CF/RF position columns found. Expected columns like \"\n",
    "        \"'LF_PositionAtReleaseX' and 'LF_PositionAtReleaseZ'.\"\n",
    "    )\n",
    "\n",
    "df[\"Distance\"] = pd.to_numeric(df[\"Distance\"], errors=\"coerce\")\n",
    "df[\"Bearing\"]  = pd.to_numeric(df[\"Bearing\"],  errors=\"coerce\")\n",
    "\n",
    "df[\"BearingRadians\"] = np.radians(df[\"Bearing\"])\n",
    "df[\"Ball_X\"] = df[\"Distance\"] * np.cos(df[\"BearingRadians\"])\n",
    "df[\"Ball_Z\"] = df[\"Distance\"] * np.sin(df[\"BearingRadians\"])"
   ]
  },
  {
   "cell_type": "code",
   "execution_count": 25,
   "id": "5c15dbeb-8f48-41ac-b37c-e616c8b43c52",
   "metadata": {},
   "outputs": [
    {
     "name": "stderr",
     "output_type": "stream",
     "text": [
      "C:\\Users\\brend\\AppData\\Local\\Temp\\ipykernel_42080\\3708701170.py:39: RuntimeWarning: All-NaN slice encountered\n",
      "  df[\"FielderDistance\"] = np.nanmin(distances, axis=1)\n"
     ]
    }
   ],
   "source": [
    "fielder_x_cols = [p[\"xcol\"] for p in pos_list]\n",
    "fielder_z_cols = [p[\"zcol\"] for p in pos_list]\n",
    "\n",
    "for c in fielder_x_cols + fielder_z_cols:\n",
    "    df[c] = pd.to_numeric(df[c], errors=\"coerce\")\n",
    "\n",
    "fielder_x = df[fielder_x_cols].to_numpy(dtype=float)\n",
    "fielder_z = df[fielder_z_cols].to_numpy(dtype=float)\n",
    "\n",
    "ball_x = df[\"Ball_X\"].to_numpy(dtype=float)[:, None]\n",
    "ball_z = df[\"Ball_Z\"].to_numpy(dtype=float)[:, None]\n",
    "\n",
    "distances = np.sqrt((ball_x - fielder_x)**2 + (ball_z - fielder_z)**2)\n",
    "\n",
    "valid_mask = ~np.isnan(distances).all(axis=1)\n",
    "\n",
    "n = len(df)\n",
    "nearest_idx = np.full(n, np.nan)\n",
    "fielder_X_vals = np.full(n, np.nan)\n",
    "fielder_Z_vals = np.full(n, np.nan)\n",
    "fielder_pos_vals = np.full(n, None, dtype=object)\n",
    "fielder_name_vals = np.full(n, None, dtype=object)\n",
    "\n",
    "nearest_idx[valid_mask] = np.nanargmin(distances[valid_mask], axis=1)\n",
    "\n",
    "for i, p in enumerate(pos_list):\n",
    "    mask = (nearest_idx == i)\n",
    "    fielder_X_vals[mask] = df[p[\"xcol\"]].to_numpy(dtype=float)[mask]\n",
    "    fielder_Z_vals[mask] = df[p[\"zcol\"]].to_numpy(dtype=float)[mask]\n",
    "    fielder_pos_vals[mask] = p[\"pos\"]\n",
    "    if p[\"namecol\"] is not None:\n",
    "        names = df[p[\"namecol\"]].astype(str)\n",
    "        fielder_name_vals[mask] = names.to_numpy()[mask]\n",
    "\n",
    "df[\"Fielder_X\"] = fielder_X_vals\n",
    "df[\"Fielder_Z\"] = fielder_Z_vals\n",
    "df[\"NearestFielderPos\"] = fielder_pos_vals\n",
    "df[\"NearestFielderName\"] = fielder_name_vals\n",
    "df[\"FielderDistance\"] = np.nanmin(distances, axis=1)"
   ]
  },
  {
   "cell_type": "code",
   "execution_count": 26,
   "id": "13272fd2-7217-438f-99fc-9989bd976ecd",
   "metadata": {},
   "outputs": [],
   "source": [
    "if not (col_exists(\"ZoneTime\") and col_exists(\"HangTime\")):\n",
    "    raise ValueError(\"Your file must contain 'ZoneTime' and 'HangTime' columns\")\n",
    "\n",
    "df[\"ZoneTime\"] = pd.to_numeric(df[\"ZoneTime\"], errors=\"coerce\")\n",
    "df[\"HangTime\"] = pd.to_numeric(df[\"HangTime\"], errors=\"coerce\")\n",
    "df[\"OpportunityTime\"] = df[\"ZoneTime\"] + df[\"HangTime\"]\n",
    "\n",
    "denom = df[\"OpportunityTime\"] - 2.0\n",
    "df[\"ASN\"] = np.where(denom > 0, df[\"FielderDistance\"] / denom, np.nan)"
   ]
  },
  {
   "cell_type": "code",
   "execution_count": 27,
   "id": "193b6ae7-767c-4a0d-9cd0-b18f5fae7434",
   "metadata": {},
   "outputs": [],
   "source": [
    "fielder_angles = np.degrees(np.arctan2(df[\"Fielder_Z\"].to_numpy(dtype=float), df[\"Fielder_X\"].to_numpy(dtype=float)))\n",
    "ball_angles   = np.degrees(np.arctan2(df[\"Ball_Z\"].to_numpy(dtype=float), df[\"Ball_X\"].to_numpy(dtype=float)))\n",
    "\n",
    "angle_diff = ball_angles - fielder_angles\n",
    "angle_diff = (angle_diff + 180) % 360 - 180\n",
    "angle_diff = np.abs(angle_diff)\n",
    "\n",
    "df[\"IsStraightBack\"] = angle_diff >= 150\n",
    "\n",
    "df[\"DA_ASN\"] = df[\"ASN\"] + np.where(df[\"IsStraightBack\"], 3.56, 0.0)"
   ]
  },
  {
   "cell_type": "code",
   "execution_count": 28,
   "id": "6089761b-6d6f-4249-a216-e0d0b96bb3c0",
   "metadata": {},
   "outputs": [],
   "source": [
    "caught = None\n",
    "if col_exists(\"TaggedHitType\") and col_exists(\"PlayResult\"):\n",
    "    tht = df[\"TaggedHitType\"].astype(str).str.lower()\n",
    "    pr  = df[\"PlayResult\"].astype(str).str.lower()\n",
    "    caught = ((tht.str.contains(\"fly\", na=False) | tht.str.contains(\"line\", na=False) | tht.str.contains(\"pop\", na=False))\n",
    "              & pr.str.contains(\"out\", na=False)\n",
    "             ).astype(int)\n",
    "elif col_exists(\"PlayResult\"):\n",
    "    pr = df[\"PlayResult\"].astype(str).str.lower()\n",
    "    caught = (pr.str.contains(\"fly\", na=False) | pr.str.contains(\"line\", na=False) | pr.str.contains(\"pop\", na=False)).astype(int)\n",
    "else:\n",
    "    raise ValueError(\"No columns to determine 'caught' label. Expected 'TaggedHitType' and 'PlayResult' or at least 'PlayResult'.\")\n",
    "\n",
    "df[\"Caught\"] = caught"
   ]
  },
  {
   "cell_type": "code",
   "execution_count": 29,
   "id": "d7d57bd3-59b2-410e-9f93-51d62d5f773d",
   "metadata": {},
   "outputs": [
    {
     "name": "stdout",
     "output_type": "stream",
     "text": [
      "Rows before filtering: 55824, after filtering: 2199\n"
     ]
    }
   ],
   "source": [
    "if col_exists(\"HitLandingConfidence\") and MIN_HIT_LAND_CONF > 0:\n",
    "    df[\"HitLandingConfidence\"] = pd.to_numeric(df[\"HitLandingConfidence\"], errors=\"coerce\")\n",
    "    conf_mask = df[\"HitLandingConfidence\"] >= MIN_HIT_LAND_CONF\n",
    "else:\n",
    "    conf_mask = pd.Series(True, index=df.index)\n",
    "\n",
    "mask = (\n",
    "    (df[\"OpportunityTime\"] > MIN_OPPORTUNITY) &\n",
    "    (df[\"DA_ASN\"].notna()) &\n",
    "    (df[\"DA_ASN\"] >= 0) &\n",
    "    (df[\"DA_ASN\"] <= MAX_ASN) &\n",
    "    (df[\"FielderDistance\"].notna()) &\n",
    "    (df[\"FielderDistance\"] >= 0) &\n",
    "    conf_mask\n",
    ")\n",
    "\n",
    "df_filtered = df.loc[mask].copy()\n",
    "print(f\"Rows before filtering: {len(df)}, after filtering: {len(df_filtered)}\")\n",
    "\n",
    "if len(df_filtered) < 50:\n",
    "    print(\"Warning: fewer than 50 rows after basic filtering. Consider loosening filters for model training.\")"
   ]
  },
  {
   "cell_type": "code",
   "execution_count": 30,
   "id": "1a469c1e-b4ae-4158-a451-73a3b3cf4331",
   "metadata": {},
   "outputs": [
    {
     "name": "stdout",
     "output_type": "stream",
     "text": [
      "Rows used for modeling: 2199\n"
     ]
    }
   ],
   "source": [
    "df_filtered[\"DA_ASN_sq\"] = df_filtered[\"DA_ASN\"] ** 2\n",
    "\n",
    "df_model = df_filtered.dropna(subset=[\"DA_ASN\", \"DA_ASN_sq\", \"Caught\"])\n",
    "print(\"Rows used for modeling:\", len(df_model))\n",
    "\n",
    "X = df_model[[\"DA_ASN\", \"DA_ASN_sq\"]].to_numpy(dtype=float)\n",
    "y = df_model[\"Caught\"].to_numpy(dtype=int)"
   ]
  },
  {
   "cell_type": "code",
   "execution_count": 31,
   "id": "7bc803b7-dcb2-4f38-a82f-adb7c950f03b",
   "metadata": {},
   "outputs": [
    {
     "name": "stdout",
     "output_type": "stream",
     "text": [
      "\n",
      "✅ Trained logistic regression coefficients:\n",
      "Intercept: 4.752943\n",
      "DA_ASN:    -0.200912\n",
      "DA_ASN^2:  0.001591\n",
      "\n",
      "Model equation (probability):\n",
      "    p = 1 / (1 + exp(-1 * (4.7529 + -0.2009*x + 0.0016*x^2)))\n"
     ]
    }
   ],
   "source": [
    "X_train, X_test, y_train, y_test = train_test_split(X, y, test_size=TEST_SIZE, random_state=RANDOM_STATE, stratify=y if len(np.unique(y))>1 else None)\n",
    "\n",
    "model = LogisticRegression(solver=\"lbfgs\", max_iter=2000)\n",
    "model.fit(X_train, y_train)\n",
    "\n",
    "intercept = float(model.intercept_[0])\n",
    "coef1 = float(model.coef_[0][0])\n",
    "coef2 = float(model.coef_[0][1])\n",
    "print(\"\\n✅ Trained logistic regression coefficients:\")\n",
    "print(f\"Intercept: {intercept:.6f}\")\n",
    "print(f\"DA_ASN:    {coef1:.6f}\")\n",
    "print(f\"DA_ASN^2:  {coef2:.6f}\")\n",
    "print(f\"\\nModel equation (probability):\")\n",
    "print(f\"    p = 1 / (1 + exp(-1 * ({intercept:.4f} + {coef1:.4f}*x + {coef2:.4f}*x^2)))\")"
   ]
  },
  {
   "cell_type": "code",
   "execution_count": 32,
   "id": "b6fb33fb-e77c-4a55-ab95-7af8b5ceddba",
   "metadata": {},
   "outputs": [
    {
     "name": "stdout",
     "output_type": "stream",
     "text": [
      "\n",
      "Holdout accuracy: 0.816\n"
     ]
    },
    {
     "name": "stderr",
     "output_type": "stream",
     "text": [
      "C:\\Users\\brend\\AppData\\Local\\Programs\\Python\\Python313\\Lib\\site-packages\\sklearn\\utils\\validation.py:2742: UserWarning: X has feature names, but LogisticRegression was fitted without feature names\n",
      "  warnings.warn(\n"
     ]
    }
   ],
   "source": [
    "df_model[\"Predicted_CatchProb\"] = model.predict_proba(df_model[[\"DA_ASN\", \"DA_ASN_sq\"]])[:, 1]\n",
    "\n",
    "cols_to_export = [\n",
    "    \"Date\", \"Time\", \"PlayID\", \"PitchUID\", \"Batter\", \"FielderDistance\", \"OpportunityTime\",\n",
    "    \"DA_ASN\", \"DA_ASN_sq\", \"IsStraightBack\", \"NearestFielderPos\", \"NearestFielderName\",\n",
    "    \"Caught\", \"Predicted_CatchProb\"\n",
    "]\n",
    "cols_to_export = [c for c in cols_to_export if c in df_model.columns]\n",
    "\n",
    "accuracy = model.score(X_test, y_test)\n",
    "print(f\"\\nHoldout accuracy: {accuracy:.3f}\")"
   ]
  },
  {
   "cell_type": "code",
   "execution_count": 33,
   "id": "f5cd03ea-e306-43e5-b325-aa06b3db1316",
   "metadata": {},
   "outputs": [
    {
     "name": "stdout",
     "output_type": "stream",
     "text": [
      "\n",
      "📁 Results saved to: C:\\Users\\brend\\OneDrive - Stonehill College\\catch_probability_results.xlsx\n",
      "Saved columns: ['Date', 'Time', 'PlayID', 'PitchUID', 'Batter', 'FielderDistance', 'OpportunityTime', 'DA_ASN', 'DA_ASN_sq', 'IsStraightBack', 'NearestFielderPos', 'NearestFielderName', 'Caught', 'Predicted_CatchProb']\n"
     ]
    }
   ],
   "source": [
    "out_df = df_model[cols_to_export].copy()\n",
    "out_path = os.path.join(os.path.dirname(INPUT_XLSX), OUTPUT_XLSX)\n",
    "out_df.to_excel(out_path, index=False)\n",
    "print(f\"\\n📁 Results saved to: {out_path}\")\n",
    "print(\"Saved columns:\", out_df.columns.tolist())"
   ]
  }
 ],
 "metadata": {
  "kernelspec": {
   "display_name": "Python 3 (ipykernel)",
   "language": "python",
   "name": "python3"
  },
  "language_info": {
   "codemirror_mode": {
    "name": "ipython",
    "version": 3
   },
   "file_extension": ".py",
   "mimetype": "text/x-python",
   "name": "python",
   "nbconvert_exporter": "python",
   "pygments_lexer": "ipython3",
   "version": "3.13.7"
  }
 },
 "nbformat": 4,
 "nbformat_minor": 5
}
