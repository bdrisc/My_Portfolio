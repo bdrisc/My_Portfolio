{
 "cells": [
  {
   "cell_type": "code",
   "execution_count": 1,
   "id": "e8b4292e-9954-4d6e-b4fc-ece1c80ba8da",
   "metadata": {},
   "outputs": [],
   "source": [
    "import pandas as pd\n",
    "import numpy as np\n",
    "from sklearn.preprocessing import StandardScaler\n",
    "from xgboost import XGBRegressor\n",
    "from sklearn.model_selection import train_test_split\n",
    "from sklearn.model_selection import KFold, cross_val_predict\n",
    "from sklearn.linear_model import LinearRegression\n",
    "\n",
    "file_path = r\"C:\\Users\\brend\\OneDrive - Stonehill College\\All Cape League Trackman.xlsx\"\n",
    "data = pd.read_excel(file_path)"
   ]
  },
  {
   "cell_type": "code",
   "execution_count": 2,
   "id": "eca0cd13-7e93-41cf-8e8f-7ffbd726ea91",
   "metadata": {},
   "outputs": [
    {
     "name": "stdout",
     "output_type": "stream",
     "text": [
      "['ChangeUp' 'Curveball' 'Four-Seam' 'Slider' 'Cutter' 'Sinker' 'Other'\n",
      " 'Undefined' 'Two-Seam' 'Knuckleball' 'Splitter']\n"
     ]
    }
   ],
   "source": [
    "pitch_type_map = {\n",
    "    'Fastball': 'Four-Seam',\n",
    "    'FourSeamFastBall': 'Four-Seam',\n",
    "    'FourSeamFour-Seam': 'Four-Seam',\n",
    "\n",
    "    'Changeup': 'ChangeUp',\n",
    "    \n",
    "    'TwoSeamFastBall': 'Two-Seam',\n",
    "    'TwoSeamFour-Seam': 'Two-Seam',\n",
    "\n",
    "    'ChangeUp': 'ChangeUp',\n",
    "    'Curveball': 'Curveball',\n",
    "    'Slider': 'Slider',\n",
    "    'Sweeper': 'Slider',\n",
    "    'Cutter': 'Cutter',\n",
    "    'Sinker': 'Sinker',\n",
    "    'Splitter': 'Splitter',\n",
    "    'Knuckleball': 'Knuckleball',\n",
    "\n",
    "    'Other': 'Other',\n",
    "    'Undefined': 'Undefined'\n",
    "}\n",
    "\n",
    "data['TaggedPitchType'] = data['TaggedPitchType'].replace(pitch_type_map)\n",
    "\n",
    "print(data['TaggedPitchType'].unique())"
   ]
  },
  {
   "cell_type": "code",
   "execution_count": 8,
   "id": "8c869230-7419-4062-b916-bdc4bc7c177c",
   "metadata": {},
   "outputs": [],
   "source": [
    "def called_strike_percentage_vec(df):\n",
    "    total = df.shape[0]\n",
    "    return df['PitchCall'].eq('StrikeCalled').sum() / total if total > 0 else np.nan\n",
    "\n",
    "def first_pitch_strike_vec(df):\n",
    "    if 'PlayID' not in df.columns:\n",
    "        pa_groups = df.groupby(['Pitcher','Batter','PAofInning'])\n",
    "    else:\n",
    "        pa_groups = df.groupby('PlayID')\n",
    "\n",
    "    first_pitches = pa_groups.first()\n",
    "    strike_calls = ['StrikeCalled', 'StrikeSwinging', 'FoulBallNotFieldable', 'FoulBallFieldable']\n",
    "    strikes = first_pitches['PitchCall'].isin(strike_calls).sum()\n",
    "    return strikes / first_pitches.shape[0] if first_pitches.shape[0] > 0 else np.nan\n",
    "\n",
    "def get_hvz_zones(pitch_type, handedness):\n",
    "    zones = []\n",
    "    if pitch_type in ['FourSeam']:\n",
    "        zones = [(-0.85, 0.69, 2.9, 3.9)]\n",
    "    elif pitch_type in ['Slider', 'Curveball']:\n",
    "        zones = [(-0.91, -0.15, .85, 1.8)] if handedness == 'Right' else [(0.15, 0.75, .85, 1.8)]\n",
    "    elif pitch_type in ['ChangeUp', 'Sinker', 'TwoSeam', 'Splitter']:\n",
    "        zones = [(0.15, 0.75, .85, 1.8)] if handedness == 'Right' else [(-0.91, -0.15, .85, 1.8)]\n",
    "    elif pitch_type in ['Cutter']:\n",
    "        zones = [(-0.89, -0.55, 2.75, 3.7)] if handedness == 'Right' else [(0.29, 0.73, 2.75, 3.7)]\n",
    "    return zones\n",
    "\n",
    "def high_value_zone_percentage_vec(df):\n",
    "    if df.shape[0] == 0:\n",
    "        return np.nan\n",
    "    count_in_zone = []\n",
    "    for _, row in df.iterrows():\n",
    "        zones = get_hvz_zones(row['TaggedPitchType'], row['PitcherThrows'])\n",
    "        in_zone = any(\n",
    "            xmin <= row['PlateLocSide'] <= xmax and zmin <= row['PlateLocHeight'] <= zmax\n",
    "            for xmin, xmax, zmin, zmax in zones\n",
    "        )\n",
    "        count_in_zone.append(in_zone)\n",
    "    return np.mean(count_in_zone)\n",
    "\n",
    "def hard_contact_percentage_vec(df, hard_ev_threshold=93.5):\n",
    "    in_play = df['PitchCall'] == 'InPlay'\n",
    "    if in_play.sum() == 0:\n",
    "        return np.nan\n",
    "    return (df.loc[in_play, 'ExitSpeed'] >= hard_ev_threshold).mean()\n",
    "\n",
    "def controlled_count_percentage_vec(df):\n",
    "    df = df.copy()\n",
    "    if 'PlayID' in df.columns:\n",
    "        pa_groups = df.groupby('PlayID')\n",
    "    else:\n",
    "        pa_groups = df.groupby(['GameUID','Inning','Top/Bottom','PAofInning'])\n",
    "    def pa_controlled(pa):\n",
    "        counts = pa['Balls'].astype(str) + '-' + pa['Strikes'].astype(str)\n",
    "        return int(not any(counts.isin(['2-0','3-0','3-1'])))\n",
    "    controlled = pa_groups.apply(pa_controlled, include_groups=False)\n",
    "    return controlled.mean()"
   ]
  },
  {
   "cell_type": "code",
   "execution_count": 9,
   "id": "a58d272f-1f2b-4137-8a04-25b61b31664c",
   "metadata": {},
   "outputs": [],
   "source": [
    "pitchers = data['Pitcher'].unique()\n",
    "fip_list = []\n",
    "for p in pitchers:\n",
    "    df_p = data[data['Pitcher'] == p]\n",
    "    HR = df_p[df_p['PlayResult'] == 'HomeRun'].shape[0]\n",
    "    BB = df_p[df_p['KorBB'] == 'Walk'].shape[0]\n",
    "    K  = df_p[df_p['KorBB'] == 'Strikeout'].shape[0]\n",
    "    HBP = df_p[df_p['PitchCall'] == 'HitByPitch'].shape[0]\n",
    "    total_outs = df_p['OutsOnPlay'].sum() + K\n",
    "    IP = max(total_outs / 3, 1)\n",
    "    FIP = ((6.3*HR) + (((4.47+0.983)/2)*(BB+HBP)) + (-2.1*K)) / IP + 5.7\n",
    "    fip_list.append({'Pitcher': p, 'FIP': FIP})\n",
    "fip_df = pd.DataFrame(fip_list)"
   ]
  },
  {
   "cell_type": "code",
   "execution_count": 14,
   "id": "7b078684-f11f-428b-ac7c-b5626fe8ac27",
   "metadata": {},
   "outputs": [],
   "source": [
    "feature_list = []\n",
    "for p, df_p in data.groupby('Pitcher'):\n",
    "    feature_list.append({\n",
    "        'Pitcher': p,\n",
    "        'CS': called_strike_percentage_vec(df_p),\n",
    "        'CC': controlled_count_percentage_vec(df_p),\n",
    "        'F_Strike': first_pitch_strike_vec(df_p),\n",
    "        'HVZ': high_value_zone_percentage_vec(df_p),\n",
    "        'Hard_Contact': hard_contact_percentage_vec(df_p)\n",
    "    })\n",
    "features_df = pd.DataFrame(feature_list).merge(fip_df, on='Pitcher').dropna()"
   ]
  },
  {
   "cell_type": "code",
   "execution_count": 15,
   "id": "1d42aa10-dd99-43a3-996b-b4c5a1c42f28",
   "metadata": {},
   "outputs": [
    {
     "name": "stdout",
     "output_type": "stream",
     "text": [
      "Feature Weights: {'CS': np.float32(0.08521169), 'CC': np.float32(0.09395039), 'F_Strike': np.float32(0.4756854), 'HVZ': np.float32(0.17919612), 'Hard_Contact': np.float32(0.1659564)}\n"
     ]
    }
   ],
   "source": [
    "features = [\"CS\", \"CC\", \"F_Strike\", \"HVZ\", \"Hard_Contact\"]\n",
    "X = features_df[features].copy()\n",
    "y = features_df[\"FIP\"].copy()\n",
    "scaler = StandardScaler()\n",
    "X_scaled = scaler.fit_transform(X)\n",
    "xgb_model = XGBRegressor(n_estimators=200, max_depth=3, learning_rate=0.05, random_state=42)\n",
    "xgb_model.fit(X_scaled, y)\n",
    "\n",
    "importances = xgb_model.feature_importances_\n",
    "weights = importances / importances.sum()\n",
    "print(\"Feature Weights:\", dict(zip(features, weights)))"
   ]
  },
  {
   "cell_type": "code",
   "execution_count": 16,
   "id": "fbabddcd-b8d0-4cb5-a45e-b8ce64548d86",
   "metadata": {},
   "outputs": [],
   "source": [
    "features_df[\"LocationRaw\"] = np.dot(X_scaled, weights)\n",
    "league_mean = features_df[\"LocationRaw\"].mean()\n",
    "league_std = features_df[\"LocationRaw\"].std()\n",
    "features_df[\"Location+\"] = 100 + (features_df[\"LocationRaw\"] - league_mean) / league_std * 15\n",
    "\n",
    "pitcher_teams = data[['Pitcher', 'PitcherTeam']].drop_duplicates(subset='Pitcher')\n",
    "features_df = features_df.merge(pitcher_teams, on='Pitcher', how='left')\n",
    "\n",
    "export_cols = [\"Pitcher\", \"PitcherTeam\", \"Location+\", \"LocationRaw\", \"CS\", \"CC\", \"F_Strike\", \"HVZ\", \"Hard_Contact\", \"FIP\"]\n",
    "features_df[export_cols].to_excel(\"LocationPlus_All.xlsx\", index=False)\n",
    "\n",
    "pitchtype_list = []\n",
    "for (p, pitch_type), df_pt in data.groupby([\"Pitcher\", \"TaggedPitchType\"]):\n",
    "    if df_pt.empty:\n",
    "        continue\n",
    "    row = {\n",
    "        \"Pitcher\": p,\n",
    "        \"PitchType\": pitch_type,\n",
    "        \"CS\": called_strike_percentage_vec(df_pt),\n",
    "        \"CC\": controlled_count_percentage_vec(df_pt),\n",
    "        \"F_Strike\": first_pitch_strike_vec(df_pt),\n",
    "        \"HVZ\": high_value_zone_percentage_vec(df_pt),\n",
    "        \"Hard_Contact\": hard_contact_percentage_vec(df_pt)\n",
    "    }\n",
    "    pitchtype_list.append(row)\n",
    "\n",
    "pitchtype_df = pd.DataFrame(pitchtype_list).dropna()\n",
    "X_pitchtype = pitchtype_df[features].copy()\n",
    "X_pitchtype_scaled = scaler.transform(X_pitchtype)\n",
    "pitchtype_df[\"LocationRaw\"] = np.dot(X_pitchtype_scaled, weights)\n",
    "\n",
    "league_mean_pt = pitchtype_df[\"LocationRaw\"].mean()\n",
    "league_std_pt = pitchtype_df[\"LocationRaw\"].std()\n",
    "pitchtype_df[\"Location+\"] = 100 + (pitchtype_df[\"LocationRaw\"] - league_mean_pt) / league_std_pt * 15\n",
    "\n",
    "pitchtype_df = pitchtype_df.merge(pitcher_teams, on=\"Pitcher\", how=\"left\")"
   ]
  },
  {
   "cell_type": "code",
   "execution_count": 17,
   "id": "af2c5c3c-0528-4661-aaf2-e7d3cd4d1194",
   "metadata": {},
   "outputs": [],
   "source": [
    "export_cols_pt = [\"Pitcher\", \"PitcherTeam\", \"PitchType\", \"Location+\", \"LocationRaw\", \"CS\", \"CC\", \"F_Strike\", \"HVZ\", \"Hard_Contact\"]\n",
    "pitchtype_df[pitchtype_df[\"PitcherTeam\"] == \"FAL_COM\"][export_cols_pt].to_excel(\"LocationPlus_FALCOM_PitchType.xlsx\", index=False)"
   ]
  },
  {
   "cell_type": "code",
   "execution_count": null,
   "id": "e5fe35cb-8482-4000-9d28-0d4dda2f6ce3",
   "metadata": {},
   "outputs": [],
   "source": []
  }
 ],
 "metadata": {
  "kernelspec": {
   "display_name": "Python 3 (ipykernel)",
   "language": "python",
   "name": "python3"
  },
  "language_info": {
   "codemirror_mode": {
    "name": "ipython",
    "version": 3
   },
   "file_extension": ".py",
   "mimetype": "text/x-python",
   "name": "python",
   "nbconvert_exporter": "python",
   "pygments_lexer": "ipython3",
   "version": "3.13.7"
  }
 },
 "nbformat": 4,
 "nbformat_minor": 5
}
