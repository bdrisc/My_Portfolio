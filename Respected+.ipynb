{
 "cells": [
  {
   "cell_type": "code",
   "execution_count": 70,
   "id": "2748a804-fe1f-4931-b075-a428b4ae73c8",
   "metadata": {},
   "outputs": [],
   "source": [
    "import pandas as pd\n",
    "import numpy as np\n",
    "\n",
    "filepath = r\"C:\\Users\\brend\\OneDrive - Stonehill College\\All Cape League Trackman.xlsx\"\n",
    "df = pd.read_excel(filepath)"
   ]
  },
  {
   "cell_type": "code",
   "execution_count": 179,
   "id": "1e61a472-8f90-403b-8369-5eaffd3d7d47",
   "metadata": {},
   "outputs": [],
   "source": [
    "for col in ['PlateLocHeight', 'PlateLocSide', 'Balls', 'Strikes']:\n",
    "    df[col] = pd.to_numeric(df[col], errors='coerce')\n",
    "\n",
    "ZONE_TOP = 3.5\n",
    "ZONE_BOTTOM = 1.5\n",
    "ZONE_LEFT = -0.85\n",
    "ZONE_RIGHT = 0.85"
   ]
  },
  {
   "cell_type": "code",
   "execution_count": 180,
   "id": "d27aef58-e0dc-4fe6-8181-daebe8875bca",
   "metadata": {},
   "outputs": [],
   "source": [
    "pitch_type_mapping = {\n",
    "    \"Fastball\": \"Four-Seam\",\n",
    "    \"Fourseamfastball\": \"Four-Seam\",\n",
    "    \"Twoseamfastball\": \"Two-Seam\",\n",
    "    \"Twoseamfour-Seam\": \"Two-Seam\",\n",
    "    \"Sweeper\": \"Slider\",\n",
    "}\n",
    "\n",
    "df['TaggedPitchType'] = (\n",
    "    df['TaggedPitchType']\n",
    "    .astype(str)\n",
    "    .str.strip()\n",
    "    .str.title()\n",
    "    .replace(pitch_type_mapping)\n",
    ")"
   ]
  },
  {
   "cell_type": "code",
   "execution_count": 181,
   "id": "446db4ad-7df2-4b58-85ee-41f2d13cfcb7",
   "metadata": {},
   "outputs": [],
   "source": [
    "df['InZone'] = (\n",
    "    (df['PlateLocSide'].between(ZONE_LEFT, ZONE_RIGHT)) &\n",
    "    (df['PlateLocHeight'].between(ZONE_BOTTOM, ZONE_TOP))\n",
    ")\n",
    "\n",
    "df['IsFastball'] = df['TaggedPitchType'].str.contains(\n",
    "    'Fastball|Four-Seam|Two-Seam|Sinker', case=False, na=False\n",
    ")\n",
    "\n",
    "swing_calls = ['StrikeSwinging', 'FoulBallFieldable', 'FoulBallNotFieldable', 'InPlay']\n",
    "df['IsSwing'] = df['PitchCall'].isin(swing_calls)\n",
    "df['IsOutsideZone'] = ~df['InZone']\n",
    "\n",
    "df['AheadInCount'] = ((df['Balls'] > df['Strikes']) & (df['Balls'] >= 2)) | (df['Balls'] == 3)"
   ]
  },
  {
   "cell_type": "code",
   "execution_count": 182,
   "id": "5f851165-070a-47d9-b5a5-b4e237c525e6",
   "metadata": {},
   "outputs": [],
   "source": [
    "first_pitch_df = df[(df['Balls'] == 0) & (df['Strikes'] == 0)]\n",
    "two_strike_df = df[df['Strikes'] == 2]"
   ]
  },
  {
   "cell_type": "code",
   "execution_count": 183,
   "id": "64a6a94c-d090-41ba-bb7e-8d53d83bd2bf",
   "metadata": {},
   "outputs": [],
   "source": [
    "in_zone_ahead_df = df[df['AheadInCount']].groupby('Batter')['InZone'].mean().rename('in_zone_ahead')\n",
    "\n",
    "batter_stats = (\n",
    "    df.groupby('Batter')\n",
    "      .agg(\n",
    "          pitches=('TaggedPitchType', 'count'),\n",
    "          in_zone=('InZone', 'mean'),\n",
    "          fastball_rate=('IsFastball', 'mean')\n",
    "      )\n",
    "      .reset_index()\n",
    "      .merge(in_zone_ahead_df, on='Batter', how='left')\n",
    ")\n",
    "\n",
    "first_pitch_zone = first_pitch_df.groupby('Batter')['InZone'].mean().rename('first_pitch_in_zone_rate')\n",
    "two_strike_zone = two_strike_df.groupby('Batter')['InZone'].mean().rename('two_strike_zone_rate')\n",
    "\n",
    "batter_stats = (\n",
    "    batter_stats\n",
    "    .merge(first_pitch_zone, on='Batter', how='left')\n",
    "    .merge(two_strike_zone, on='Batter', how='left')\n",
    ")\n",
    "\n",
    "batter_stats = batter_stats[batter_stats['pitches'] >= 100]\n",
    "valid_first_pitch = first_pitch_df.groupby('Batter')['InZone'].count()\n",
    "valid_two_strike = two_strike_df.groupby('Batter')['InZone'].count()\n",
    "\n",
    "batter_stats = batter_stats[\n",
    "    (batter_stats['Batter'].isin(valid_first_pitch[valid_first_pitch >= 10].index)) &\n",
    "    (batter_stats['Batter'].isin(valid_two_strike[valid_two_strike >= 10].index))\n",
    "]"
   ]
  },
  {
   "cell_type": "code",
   "execution_count": 184,
   "id": "defeed10-6c64-41e3-ba74-7e7f6172c7cb",
   "metadata": {},
   "outputs": [],
   "source": [
    "chase_rate = (\n",
    "    df[df['IsOutsideZone']]\n",
    "    .groupby('Batter')['IsSwing']\n",
    "    .mean()\n",
    "    .rename('chase_rate')\n",
    ")\n",
    "batter_stats = batter_stats.merge(chase_rate, on='Batter', how='left')"
   ]
  },
  {
   "cell_type": "code",
   "execution_count": 185,
   "id": "47772ab1-17d9-4bf8-b097-f537444d07c8",
   "metadata": {},
   "outputs": [],
   "source": [
    "metrics = {\n",
    "    'in_zone': -1,\n",
    "    'in_zone_ahead': -1,\n",
    "    'fastball_rate': -1,\n",
    "    'chase_rate': -1,\n",
    "    'first_pitch_in_zone_rate': -1,\n",
    "    'two_strike_zone_rate': -1\n",
    "}\n",
    "\n",
    "batter_stats = batter_stats.replace([np.inf, -np.inf], np.nan)\n",
    "batter_stats = batter_stats.fillna(batter_stats.mean(numeric_only=True))\n",
    "\n",
    "for metric, direction in metrics.items():\n",
    "    std = batter_stats[metric].std(ddof=0)\n",
    "    if std == 0 or pd.isna(std):\n",
    "        batter_stats[f'{metric}_z'] = 0\n",
    "    else:\n",
    "        z = (batter_stats[metric] - batter_stats[metric].mean()) / std\n",
    "        batter_stats[f'{metric}_z'] = (z * direction)"
   ]
  },
  {
   "cell_type": "code",
   "execution_count": 186,
   "id": "1bd48a86-6f77-424d-9907-a1e016e09e38",
   "metadata": {},
   "outputs": [],
   "source": [
    "corrs = batter_stats[\n",
    "    list(metrics.keys())\n",
    "].corrwith(batter_stats['in_zone']).abs()\n",
    "\n",
    "corrs = corrs[corrs > 0.05]\n",
    "weights = (corrs / corrs.sum()).to_dict()\n",
    "\n",
    "batter_stats['RespectScore'] = sum(batter_stats[f\"{metric}_z\"] * weights[metric] for metric in metrics.keys())"
   ]
  },
  {
   "cell_type": "code",
   "execution_count": 187,
   "id": "a8391fb8-0f20-4afa-a65d-88b7709ae0c0",
   "metadata": {},
   "outputs": [],
   "source": [
    "batter_stats['Respected+'] = 100 + 25 * (\n",
    "    (batter_stats['RespectScore'] - batter_stats['RespectScore'].mean()) / batter_stats['RespectScore'].std(ddof=0)\n",
    ")"
   ]
  },
  {
   "cell_type": "code",
   "execution_count": 188,
   "id": "d5100c18-26db-4d1b-b35f-c9e0e0622898",
   "metadata": {},
   "outputs": [
    {
     "name": "stdout",
     "output_type": "stream",
     "text": [
      "=== MOST Respected ===\n",
      "                     Batter  Respected+\n",
      "7            Bastian, Jaden  199.851844\n",
      "56          Gasparino, Will  165.199846\n",
      "170        Wright, Garrett   155.503597\n",
      "5             Bailey, Myles  155.425442\n",
      "135            Rogers, Drew  151.578149\n",
      "95            Martin, Roman  150.395256\n",
      "65          Hernandez, Alex  150.340276\n",
      "105       Mexico, Sebastian  144.774078\n",
      "122  O'Shaughnessy, Michael  142.638726\n",
      "37               Cyr, Blake  137.505565\n",
      "\n",
      "=== LEAST Respected ===\n",
      "                   Batter  Respected+\n",
      "132            Reese, Ace   14.290099\n",
      "63       Harrison, Connor   52.230658\n",
      "41           Dobie, Jayce   52.937955\n",
      "114          Myatt, Tyler   53.247391\n",
      "124  Pisacreta, Sebastian   56.889109\n",
      "33    Covarrubias, Abbrie   57.381895\n",
      "58           Groves, Nick   58.261359\n",
      "54         Gargett, Kyuss   59.120741\n",
      "109       Mitchell, Devin   60.900642\n",
      "74          Keenan, Jimmy   61.436911\n",
      "\n",
      "=== Summary Statistics ===\n",
      "       in_zone  chase_rate  RespectScore  Respected+\n",
      "count  174.000     174.000       174.000     174.000\n",
      "mean     0.446       0.257         0.000     100.000\n",
      "std      0.036       0.067         0.702      25.072\n",
      "min      0.310       0.101        -2.401      14.290\n",
      "25%      0.425       0.210        -0.453      83.819\n",
      "50%      0.447       0.251        -0.087      96.886\n",
      "75%      0.471       0.295         0.459     116.405\n",
      "max      0.580       0.445         2.797     199.852\n"
     ]
    }
   ],
   "source": [
    "most_respected = batter_stats.sort_values('Respected+', ascending=False).head(10)\n",
    "least_respected = batter_stats.sort_values('Respected+', ascending=True).head(10)\n",
    "\n",
    "print(\"=== MOST Respected ===\")\n",
    "print(most_respected[['Batter', 'Respected+']])\n",
    "print(\"\\n=== LEAST Respected ===\")\n",
    "print(least_respected[['Batter', 'Respected+']])\n",
    "\n",
    "print(\"\\n=== Summary Statistics ===\")\n",
    "print(batter_stats[['in_zone', 'chase_rate', 'RespectScore', 'Respected+']].describe().round(3))"
   ]
  },
  {
   "cell_type": "code",
   "execution_count": 189,
   "id": "ecaad781-d1bc-4b7e-ba6a-0a9a60ae1c36",
   "metadata": {},
   "outputs": [
    {
     "name": "stdout",
     "output_type": "stream",
     "text": [
      "=== MOST Respected (FAL_COM) ===\n",
      "                Batter  Respected+\n",
      "20   Brumbaugh, Cayden  119.899526\n",
      "91       Lopez, Adrian  108.363969\n",
      "118    Newstrom, Chris   99.767136\n",
      "129     Quatrani, Mark   98.840996\n",
      "176    Zuckerman, Ryan   94.921279\n",
      "144      Schmidt, Kent   92.126450\n",
      "143      Schmidt, Carl   84.343851\n",
      "120         Niu, Maika   83.940623\n",
      "99       McCann, David   83.264303\n",
      "112   Morales, Antonio   82.344682\n",
      "\n",
      "=== LEAST Respected (FAL_COM) ===\n",
      "                 Batter  Respected+\n",
      "63     Harrison, Connor   52.230658\n",
      "169      Wilson, Ashton   68.866306\n",
      "138    Salinas, Tristan   71.488997\n",
      "123  Osterhouse, Justin   76.839410\n",
      "62       Harrison, Bear   77.968162\n",
      "113      Morrison, Kyle   78.196859\n",
      "112    Morales, Antonio   82.344682\n",
      "99        McCann, David   83.264303\n",
      "120          Niu, Maika   83.940623\n",
      "143       Schmidt, Carl   84.343851\n"
     ]
    }
   ],
   "source": [
    "team_info = df[['Batter', 'BatterTeam']].drop_duplicates()\n",
    "batter_stats = batter_stats.merge(team_info, on='Batter', how='left')\n",
    "\n",
    "fal_batters = batter_stats[batter_stats['BatterTeam'] == 'FAL_COM']\n",
    "\n",
    "most_respected_fal = fal_batters.sort_values('Respected+', ascending=False).head(10)\n",
    "least_respected_fal = fal_batters.sort_values('Respected+', ascending=True).head(10)\n",
    "\n",
    "print(\"=== MOST Respected (FAL_COM) ===\")\n",
    "print(most_respected_fal[['Batter', 'Respected+']])\n",
    "\n",
    "print(\"\\n=== LEAST Respected (FAL_COM) ===\")\n",
    "print(least_respected_fal[['Batter', 'Respected+']])"
   ]
  },
  {
   "cell_type": "code",
   "execution_count": 190,
   "id": "1c274d40-135a-46cd-bf16-dca71547609f",
   "metadata": {},
   "outputs": [],
   "source": [
    "batter_stats.to_csv(r\"C:\\Users\\brend\\OneDrive - Stonehill College\\RespectedPlus.csv\", index=False)"
   ]
  },
  {
   "cell_type": "code",
   "execution_count": null,
   "id": "09016206-7d4f-49ad-9826-a1ed34a72bd7",
   "metadata": {},
   "outputs": [],
   "source": []
  }
 ],
 "metadata": {
  "kernelspec": {
   "display_name": "Python 3 (ipykernel)",
   "language": "python",
   "name": "python3"
  },
  "language_info": {
   "codemirror_mode": {
    "name": "ipython",
    "version": 3
   },
   "file_extension": ".py",
   "mimetype": "text/x-python",
   "name": "python",
   "nbconvert_exporter": "python",
   "pygments_lexer": "ipython3",
   "version": "3.13.7"
  }
 },
 "nbformat": 4,
 "nbformat_minor": 5
}
