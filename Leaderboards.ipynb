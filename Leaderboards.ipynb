{
 "cells": [
  {
   "cell_type": "code",
   "execution_count": 4,
   "id": "02cb4311-1a57-4e36-ac30-adc1f036e2a7",
   "metadata": {},
   "outputs": [
    {
     "name": "stdout",
     "output_type": "stream",
     "text": [
      "                   Batter  ExitSpeed       Date PlayResult TaggedHitType\n",
      "34086          Niu, Maika  100.88520 2025-07-18     Double     LineDrive\n",
      "34172          Niu, Maika  100.63821 2025-07-18        Out       FlyBall\n",
      "34211          Niu, Maika  100.30001 2025-07-18     Double     LineDrive\n",
      "31066       Schmidt, Carl  100.02622 2025-07-16        Out       FlyBall\n",
      "31038      Wilson, Ashton   99.72636 2025-07-16        Out       FlyBall\n",
      "34140       Schmidt, Kent   99.49240 2025-07-18     Single     LineDrive\n",
      "33023      Harrison, Bear   99.09374 2025-07-17        Out     LineDrive\n",
      "33063  Osterhouse, Justin   98.88919 2025-07-17     Double     LineDrive\n",
      "29604     Zuckerman, Ryan   97.54868 2025-07-15     Single     LineDrive\n",
      "31025       Schmidt, Kent   97.27612 2025-07-16     Single     LineDrive\n",
      "31014     Newstrom, Chris   97.15983 2025-07-16     Triple     LineDrive\n",
      "33020  Osterhouse, Justin   97.08724 2025-07-17        Out     LineDrive\n",
      "29659       Schmidt, Carl   96.76242 2025-07-15     Single    GroundBall\n",
      "31048     Newstrom, Chris   96.56438 2025-07-16        Out    GroundBall\n",
      "31032       Schmidt, Carl   96.43617 2025-07-16     Single     LineDrive\n",
      "McCann, David hit 1 balls at 100+ mph.\n"
     ]
    }
   ],
   "source": [
    "import pandas as pd\n",
    "\n",
    "file_path = r\"C:\\Users\\brend\\OneDrive - Stonehill College\\All Cape League Trackman.xlsx\"\n",
    "df = pd.read_excel(file_path)\n",
    "\n",
    "if \"Date\" in df.columns:\n",
    "    df[\"Date\"] = pd.to_datetime(df[\"Date\"])\n",
    "\n",
    "if all(col in df.columns for col in [\"ExitSpeed\", \"Batter\", \"BatterTeam\", \"PlayResult\", \"TaggedHitType\"]):\n",
    "\n",
    "    df_filtered = df[\n",
    "        (df[\"BatterTeam\"] == \"FAL_COM\") &\n",
    "        (df[\"Date\"] >= pd.Timestamp(\"7/14/2025\"))\n",
    "    ]\n",
    "\n",
    "    top_15 = df_filtered.sort_values(by=\"ExitSpeed\", ascending=False).head(15)\n",
    "    top_15 = top_15[[\"Batter\", \"ExitSpeed\", \"Date\",\"PlayResult\", \"TaggedHitType\"]]\n",
    "\n",
    "    print(top_15)\n",
    "\n",
    "else:\n",
    "    print(\"Required columns not found\")\n",
    "\n",
    "player_name = \"McCann, David\"\n",
    "\n",
    "if \"ExitSpeed\" in df.columns and \"Batter\" in df.columns:\n",
    "    df_player = df[(df[\"Batter\"] == player_name) & (df[\"ExitSpeed\"] >= 100)]\n",
    "    count_100_plus = len(df_player)\n",
    "\n",
    "    print(f\"{player_name} hit {count_100_plus} balls at 100+ mph.\")\n",
    "else:\n",
    "    print(\"ExitSpeed or Batter column not found.\")"
   ]
  },
  {
   "cell_type": "code",
   "execution_count": 5,
   "id": "a963cd30-2db3-4680-a229-18e7b1dd7297",
   "metadata": {},
   "outputs": [
    {
     "name": "stdout",
     "output_type": "stream",
     "text": [
      "             Pitcher  AvgFastballVelo\n",
      "6       Palmer, Laif        92.420767\n",
      "2       Cullen, Jake        92.143869\n",
      "7       Sabbath, Joe        91.884114\n",
      "1          Coats, TJ        91.164148\n",
      "0    Barrett, Easton        90.230227\n",
      "3    Garber, Everett        89.406749\n",
      "8      Schulz, Jakob        88.189244\n",
      "5       Meert, Grant        88.031153\n",
      "10  Vanesko, Jackson        87.906549\n",
      "11     Wywoda, Jaden        87.787931\n",
      "9      Urena, Jeremy        87.662410\n",
      "4       Linn, Conner        87.592702\n"
     ]
    }
   ],
   "source": [
    "import pandas as pd\n",
    "\n",
    "if \"Date\" in df.columns:\n",
    "    df[\"Date\"] = pd.to_datetime(df[\"Date\"])\n",
    "\n",
    "required_cols = [\"RelSpeed\", \"Pitcher\", \"PitcherTeam\", \"AutoPitchType\", \"Date\"]\n",
    "if all(col in df.columns for col in required_cols):\n",
    "\n",
    "    df_filtered = df[\n",
    "        df[\"AutoPitchType\"].isin([\"Four-Seam\", \"Sinker\", \"Two-Seam\"]) &\n",
    "        (df[\"PitcherTeam\"] == \"FAL_COM\") &\n",
    "        (df[\"Date\"] >= pd.Timestamp(\"7/14/2025\"))\n",
    "    ]\n",
    "\n",
    "    avg_fb_velo = df_filtered.groupby(\"Pitcher\")[\"RelSpeed\"].mean().reset_index()\n",
    "    avg_fb_velo.rename(columns={\"RelSpeed\": \"AvgFastballVelo\"}, inplace=True)\n",
    "    avg_fb_velo = avg_fb_velo.sort_values(by=\"AvgFastballVelo\", ascending=False)\n",
    "\n",
    "    print(avg_fb_velo)\n",
    "\n",
    "else:\n",
    "    print(\"Required columns not found\")"
   ]
  },
  {
   "cell_type": "code",
   "execution_count": null,
   "id": "e697aba5-cf15-43db-8597-9ef7e29571e0",
   "metadata": {},
   "outputs": [],
   "source": []
  }
 ],
 "metadata": {
  "kernelspec": {
   "display_name": "Python 3 (ipykernel)",
   "language": "python",
   "name": "python3"
  },
  "language_info": {
   "codemirror_mode": {
    "name": "ipython",
    "version": 3
   },
   "file_extension": ".py",
   "mimetype": "text/x-python",
   "name": "python",
   "nbconvert_exporter": "python",
   "pygments_lexer": "ipython3",
   "version": "3.13.7"
  }
 },
 "nbformat": 4,
 "nbformat_minor": 5
}
