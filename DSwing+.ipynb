{
 "cells": [
  {
   "cell_type": "code",
   "execution_count": 1,
   "id": "565834f5-24af-4e36-ac50-b725e9cec247",
   "metadata": {},
   "outputs": [],
   "source": [
    "import pandas as pd\n",
    "import numpy as np\n",
    "from sklearn.model_selection import KFold\n",
    "from sklearn.preprocessing import MinMaxScaler\n",
    "from sklearn.preprocessing import StandardScaler\n",
    "from xgboost import XGBRegressor\n",
    "import shap\n",
    "\n",
    "file_path = r\"C:\\Users\\brend\\OneDrive - Stonehill College\\Swing_Data.xlsx\"\n",
    "df = pd.read_excel(file_path)"
   ]
  },
  {
   "cell_type": "code",
   "execution_count": 4,
   "id": "c2df7582-ae35-451a-a0e6-8eb54c652b10",
   "metadata": {},
   "outputs": [],
   "source": [
    "df['side_encoded'] = df['side'].map({'L': 0, 'R': 1})\n",
    "\n",
    "df.rename(columns={\n",
    "    'avg_bat_speed': 'bat_speed',\n",
    "    'swing_tilt': 'vertical_tilt',\n",
    "    'avg_swing_length': 'swing_length',\n",
    "    'avg_intercept_y_vs_batter': 'contact_point_rel_y'\n",
    "}, inplace=True)"
   ]
  },
  {
   "cell_type": "code",
   "execution_count": 5,
   "id": "eb350322-81f9-4259-8cbb-681f9001424f",
   "metadata": {},
   "outputs": [],
   "source": [
    "df['attack_direction_mirrored'] = df['attack_direction']\n",
    "df.loc[df['side_encoded'] == 1, 'attack_direction_mirrored'] *= -1\n",
    "df.loc[df['side_encoded'] == 0, 'attack_direction_mirrored'] *= -1\n",
    "df['norm_attack_direction_mirrored'] = (\n",
    "    df['attack_direction_mirrored'] / df['attack_direction_mirrored'].abs().max()\n",
    ")\n",
    "\n",
    "df['tilt_angle_interaction'] = df['vertical_tilt'] * df['attack_angle']\n",
    "df['swing_aggressiveness'] = df['bat_speed'] * df['swing_length']\n",
    "df['vertical_reach'] = df['attack_angle'] - df['contact_point_rel_y']\n",
    "df['tilt_length_ratio'] = df['vertical_tilt'] / df['swing_length']"
   ]
  },
  {
   "cell_type": "code",
   "execution_count": 6,
   "id": "90031ba2-5070-45ae-abf9-7e5b2fcc10fc",
   "metadata": {},
   "outputs": [],
   "source": [
    "feature_cols = [\n",
    "    'bat_speed', 'vertical_tilt', 'attack_angle', 'attack_direction_mirrored',\n",
    "    'swing_length', 'contact_point_rel_y', 'tilt_angle_interaction',\n",
    "    'norm_attack_direction_mirrored', 'swing_aggressiveness', 'vertical_reach',\n",
    "    'tilt_length_ratio', 'side_encoded'\n",
    "]\n",
    "\n",
    "X = df[feature_cols]\n",
    "y = df['xwobacon']"
   ]
  },
  {
   "cell_type": "code",
   "execution_count": 7,
   "id": "4bb12c7a-b626-438a-b958-25e2e208932b",
   "metadata": {},
   "outputs": [],
   "source": [
    "scaler = MinMaxScaler()\n",
    "X_scaled = scaler.fit_transform(X)\n",
    "\n",
    "kf = KFold(n_splits=5, shuffle=True, random_state=42)\n",
    "\n",
    "preds = np.zeros(len(df))\n",
    "models = []\n",
    "feature_importances = []\n",
    "shap_interactions_list = []\n",
    "\n",
    "for train_index, test_index in kf.split(X_scaled):\n",
    "    X_train, X_test = X_scaled[train_index], X_scaled[test_index]\n",
    "    y_train, y_test = y.iloc[train_index], y.iloc[test_index]\n",
    "    weights_train = df.iloc[train_index]['competitive_swings']\n",
    "\n",
    "    model = XGBRegressor(\n",
    "        n_estimators=1000,\n",
    "        max_depth=5,\n",
    "        learning_rate=0.05,\n",
    "        subsample=0.8,\n",
    "        colsample_bytree=0.8,\n",
    "        random_state=42\n",
    "    )\n",
    "\n",
    "    model.fit(X_train, y_train, sample_weight=weights_train)\n",
    "\n",
    "    preds[test_index] = model.predict(X_test)\n",
    "\n",
    "    models.append(model)\n",
    "    feature_importances.append(model.feature_importances_)\n",
    "\n",
    "    explainer = shap.TreeExplainer(model)\n",
    "    shap_interactions = explainer.shap_interaction_values(X_test)\n",
    "    shap_interactions_list.append(shap_interactions.mean(axis=0))"
   ]
  },
  {
   "cell_type": "code",
   "execution_count": 8,
   "id": "2c6ab733-405f-4e16-baff-cc27597f3a97",
   "metadata": {},
   "outputs": [],
   "source": [
    "for side in [0, 1]:\n",
    "    mask = df['side_encoded'] == side\n",
    "    mean_pred = preds[mask].mean()\n",
    "    std_pred = preds[mask].std()\n",
    "    df.loc[mask, 'DSwing+'] = 100 + 10 * (preds[mask] - mean_pred) / std_pred"
   ]
  },
  {
   "cell_type": "code",
   "execution_count": 13,
   "id": "ac670bd3-4889-4b85-be4b-42b3835be75f",
   "metadata": {},
   "outputs": [
    {
     "name": "stdout",
     "output_type": "stream",
     "text": [
      "DSwing+ calculations complete! Results saved to C:\\Users\\brend\\OneDrive - Stonehill College\\swing_plus_results.xlsx\n"
     ]
    }
   ],
   "source": [
    "output_file = r\"C:\\Users\\brend\\OneDrive - Stonehill College\\swing_plus_results.xlsx\"\n",
    "df_output = df[['year', 'Team', 'name', 'DSwing+', 'xwobacon']]\n",
    "df_output.to_excel(output_file, index=False)\n",
    "print(f\"DSwing+ calculations complete! Results saved to {output_file}\")"
   ]
  },
  {
   "cell_type": "code",
   "execution_count": 11,
   "id": "61a82fa0-7df6-47ad-8198-867565438937",
   "metadata": {},
   "outputs": [
    {
     "name": "stdout",
     "output_type": "stream",
     "text": [
      "Top and bottom 3 DSwing+ players for BOS, NYM, NYY in 2025 exported to C:\\Users\\brend\\OneDrive - Stonehill College\\swing_plus_top_bottom_2025_features.xlsx\n"
     ]
    }
   ],
   "source": [
    "teams = ['BOS', 'NYM', 'NYY']\n",
    "df_2025 = df[(df['year'] == 2025) & (df['Team'].isin(teams))]\n",
    "\n",
    "feature_cols = [\n",
    "    'bat_speed', 'vertical_tilt', 'attack_angle', 'attack_direction_mirrored',\n",
    "    'swing_length', 'contact_point_rel_y', 'tilt_angle_interaction',\n",
    "    'norm_attack_direction_mirrored', 'swing_aggressiveness', 'vertical_reach',\n",
    "    'tilt_length_ratio', 'side_encoded'\n",
    "]\n",
    "\n",
    "export_cols = ['year', 'Team', 'name', 'DSwing+'] + feature_cols\n",
    "\n",
    "top_bottom_list = []\n",
    "\n",
    "for team in teams:\n",
    "    team_df = df_2025[df_2025['Team'] == team].copy()\n",
    "    \n",
    "    top3 = team_df.nlargest(3, 'DSwing+')\n",
    "    bottom3 = team_df.nsmallest(3, 'DSwing+')\n",
    "    \n",
    "    top_bottom_list.append(top3)\n",
    "    top_bottom_list.append(bottom3)\n",
    "\n",
    "result_df = pd.concat(top_bottom_list)[export_cols]\n",
    "\n",
    "output_file = r\"C:\\Users\\brend\\OneDrive - Stonehill College\\swing_plus_top_bottom_2025_features.xlsx\"\n",
    "result_df.to_excel(output_file, index=False)\n",
    "\n",
    "print(f\"Top and bottom 3 DSwing+ players for BOS, NYM, NYY in 2025 exported to {output_file}\")"
   ]
  },
  {
   "cell_type": "code",
   "execution_count": null,
   "id": "01c4d1b6-8aac-4a03-894b-6d34b6aa2071",
   "metadata": {},
   "outputs": [],
   "source": []
  }
 ],
 "metadata": {
  "kernelspec": {
   "display_name": "Python 3 (ipykernel)",
   "language": "python",
   "name": "python3"
  },
  "language_info": {
   "codemirror_mode": {
    "name": "ipython",
    "version": 3
   },
   "file_extension": ".py",
   "mimetype": "text/x-python",
   "name": "python",
   "nbconvert_exporter": "python",
   "pygments_lexer": "ipython3",
   "version": "3.13.7"
  }
 },
 "nbformat": 4,
 "nbformat_minor": 5
}
