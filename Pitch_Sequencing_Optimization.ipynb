{
 "cells": [
  {
   "cell_type": "code",
   "execution_count": 1,
   "id": "8a68cc4f-a01b-4148-bc95-489ecde8cc86",
   "metadata": {},
   "outputs": [
    {
     "name": "stderr",
     "output_type": "stream",
     "text": [
      "C:\\Users\\brend\\AppData\\Local\\Temp\\ipykernel_8032\\1560395906.py:9: DtypeWarning: Columns (27,168,185,186,187,188,189,190,199,234,235,236,237,238,239,240,251,252,253,254,255,256,257,261,263,264,265,325,326,327,328,329) have mixed types. Specify dtype option on import or set low_memory=False.\n",
      "  df = pd.read_csv(file_path)\n"
     ]
    }
   ],
   "source": [
    "import pandas as pd\n",
    "import numpy as np\n",
    "from itertools import product\n",
    "from math import sqrt\n",
    "import matplotlib.pyplot as plt\n",
    "import os\n",
    "\n",
    "file_path = r\"C:\\Users\\brend\\pitch_api\\data\\All Cape League Trackman.csv\"\n",
    "df = pd.read_csv(file_path)\n",
    "df.columns = df.columns.str.strip()"
   ]
  },
  {
   "cell_type": "code",
   "execution_count": 2,
   "id": "6f7ec2b5-f56d-480b-a536-6f487d6678b5",
   "metadata": {},
   "outputs": [],
   "source": [
    "cols = [\n",
    "    \"Pitcher\", \"PitcherId\", \"PitcherThrows\", \"Batter\", \"BatterId\", \"BatterSide\",\n",
    "    \"PitchofPA\", \"PAofInning\", \"TaggedPitchType\", \"AutoPitchType\", \"PitchCall\",\n",
    "    \"PlayResult\", \"RelSpeed\", \"VertBreak\", \"HorzBreak\", \"SpinRate\", \"KorBB\", \"ExitSpeed\"\n",
    "]\n",
    "df = df[cols].dropna(subset=[\"Pitcher\", \"TaggedPitchType\", \"RelSpeed\"])"
   ]
  },
  {
   "cell_type": "code",
   "execution_count": 3,
   "id": "e6a4837b-a3df-47ff-a225-3690b1fb9bbb",
   "metadata": {},
   "outputs": [],
   "source": [
    "df[\"pa_id\"] = df.groupby([\"Pitcher\", \"PAofInning\"]).ngroup()\n",
    "\n",
    "profile_means = df.groupby(\"TaggedPitchType\")[[\"RelSpeed\", \"VertBreak\", \"HorzBreak\"]].mean()\n",
    "pitch_types = profile_means.index.tolist()\n",
    "\n",
    "def compute_vas_raw(a_vec, b_vec, velo_weight=1.3):\n",
    "    velo_diff = abs(a_vec[0] - b_vec[0]) ** velo_weight\n",
    "    move_diff = sqrt((a_vec[1] - b_vec[1]) ** 2 + (a_vec[2] - b_vec[2]) ** 2)\n",
    "    return velo_diff + 0.7 * move_diff\n",
    "\n",
    "vas_lookup = {}\n",
    "raw_vals = []\n",
    "for a, b in product(pitch_types, repeat=2):\n",
    "    if a == b:\n",
    "        continue\n",
    "    key = tuple(sorted([a, b]))\n",
    "    if key in vas_lookup:\n",
    "        continue\n",
    "    raw = compute_vas_raw(profile_means.loc[a].values, profile_means.loc[b].values)\n",
    "    vas_lookup[key] = raw\n",
    "    raw_vals.append(raw)\n",
    "\n",
    "minr, maxr = min(raw_vals), max(raw_vals)\n",
    "for k in vas_lookup:\n",
    "    vas_lookup[k] = (vas_lookup[k] - minr) / (maxr - minr)"
   ]
  },
  {
   "cell_type": "code",
   "execution_count": 4,
   "id": "9e015e03-54bf-405b-b0a9-1e9ef7e40a4b",
   "metadata": {},
   "outputs": [],
   "source": [
    "df_sorted = df.sort_values([\"Pitcher\", \"pa_id\", \"PitchofPA\"]).reset_index(drop=True)\n",
    "df_sorted[\"Pitch1\"] = df_sorted[\"TaggedPitchType\"]\n",
    "df_sorted[\"Pitch2\"] = df_sorted.groupby(\"pa_id\")[\"TaggedPitchType\"].shift(-1)\n",
    "df_sorted[\"next_pitch_call\"] = df_sorted.groupby(\"pa_id\")[\"PitchCall\"].shift(-1)\n",
    "df_sorted[\"next_exit_speed\"] = df_sorted.groupby(\"pa_id\")[\"ExitSpeed\"].shift(-1)\n",
    "\n",
    "two_df = df_sorted.dropna(subset=[\"Pitch2\"]).copy()\n",
    "\n",
    "two_df[\"vas\"] = two_df.apply(lambda r: vas_lookup.get(tuple(sorted([r[\"Pitch1\"], r[\"Pitch2\"]])), 0), axis=1)\n",
    "\n",
    "swing_calls = [\"FoulBallNotFieldable\", \"StrikeSwinging\", \"InPlay\", \"FoulBallFieldable\"]\n",
    "two_df[\"whiff\"] = (two_df[\"next_pitch_call\"] == \"StrikeSwinging\").astype(int)\n",
    "two_df[\"swing\"] = two_df[\"next_pitch_call\"].isin(swing_calls).astype(int)\n",
    "\n",
    "two_df[\"exit_v_allowed\"] = two_df[\"next_exit_speed\"].where(two_df[\"next_pitch_call\"] == \"InPlay\")"
   ]
  },
  {
   "cell_type": "code",
   "execution_count": 5,
   "id": "30d81b7c-7add-49cf-8895-1ed445a10d45",
   "metadata": {},
   "outputs": [],
   "source": [
    "agg_global = two_df.groupby([\"Pitch1\", \"Pitch2\"]).agg(\n",
    "    n=(\"whiff\", \"count\"),\n",
    "    vas=(\"vas\", \"mean\"),\n",
    "    whiff_sum=(\"whiff\", \"sum\"),\n",
    "    swing_sum=(\"swing\", \"sum\"),\n",
    "    exit_v_allowed=(\"exit_v_allowed\", \"mean\"),\n",
    "    n_pa=(\"pa_id\", \"nunique\")\n",
    ").reset_index()\n",
    "\n",
    "prior_success = 0.25\n",
    "prior_total = 4\n",
    "agg_global[\"whiff_rate\"] = (agg_global[\"whiff_sum\"] + prior_success) / (agg_global[\"swing_sum\"] + prior_total)\n",
    "\n",
    "total_pairs = agg_global[\"n\"].sum()\n",
    "agg_global[\"usage\"] = agg_global[\"n\"] / total_pairs\n",
    "\n",
    "alpha, beta, gamma = 0.45, 0.40, 0.15\n",
    "agg_global[\"success\"] = (1 - (agg_global[\"exit_v_allowed\"] / agg_global[\"exit_v_allowed\"].max()).fillna(0)) * 0.6 + agg_global[\"whiff_rate\"] * 0.4\n",
    "\n",
    "agg_global[\"SSI\"] = alpha * agg_global[\"vas\"] + beta * agg_global[\"success\"] + gamma * (1 - agg_global[\"usage\"])\n",
    "agg_global[\"Opportunity\"] = (1 - agg_global[\"usage\"]) * agg_global[\"vas\"] * (1 + (1 - agg_global[\"success\"]))\n",
    "agg_global[\"Opportunity_scaled\"] = agg_global[\"Opportunity\"] / agg_global[\"Opportunity\"].max()"
   ]
  },
  {
   "cell_type": "code",
   "execution_count": 6,
   "id": "78591615-c52b-49b6-b511-9d7764966610",
   "metadata": {},
   "outputs": [],
   "source": [
    "def analyze_pitcher(player_name, export=True, plot=True):\n",
    "    player_df = two_df[two_df[\"Pitcher\"].str.lower() == player_name.lower()]\n",
    "    if player_df.empty:\n",
    "        print(f\"No data found for pitcher: {player_name}\")\n",
    "        return\n",
    "\n",
    "    agg_p = player_df.groupby([\"Pitch1\", \"Pitch2\"]).agg(\n",
    "        n=(\"whiff\", \"count\"),\n",
    "        vas=(\"vas\", \"mean\"),\n",
    "        whiff_sum=(\"whiff\", \"sum\"),\n",
    "        swing_sum=(\"swing\", \"sum\"),\n",
    "        exit_v_allowed=(\"exit_v_allowed\", \"mean\"),\n",
    "        n_pa=(\"pa_id\", \"nunique\")\n",
    "    ).reset_index()\n",
    "\n",
    "    agg_p = agg_p[agg_p[\"n\"] >= 5].copy()\n",
    "\n",
    "    agg_p = agg_p.merge(agg_global[[\"Pitch1\", \"Pitch2\", \"usage\"]], on=[\"Pitch1\", \"Pitch2\"], how=\"left\")\n",
    "    agg_p[\"usage\"] = agg_p[\"usage\"].fillna(0)\n",
    "\n",
    "    prior_success = 0.25\n",
    "    prior_total = 4\n",
    "    agg_p[\"whiff_rate\"] = (agg_p[\"whiff_sum\"] + prior_success) / (agg_p[\"swing_sum\"] + prior_total)\n",
    "\n",
    "    global_max_exit = agg_global[\"exit_v_allowed\"].max()\n",
    "    agg_p[\"success\"] = np.where(\n",
    "        agg_p[\"exit_v_allowed\"].isna(),\n",
    "        agg_p[\"whiff_rate\"],\n",
    "        (1 - (agg_p[\"exit_v_allowed\"] / global_max_exit)) * 0.7 + agg_p[\"whiff_rate\"] * 0.3\n",
    "    )\n",
    "\n",
    "    agg_p[\"SSI\"] = alpha * agg_p[\"vas\"] + beta * agg_p[\"success\"] + gamma * (1 - agg_p[\"usage\"])\n",
    "    agg_p[\"Opportunity\"] = (1 - agg_p[\"usage\"]) * agg_p[\"vas\"] * (1 + (1 - agg_p[\"success\"]))\n",
    "    agg_p[\"Opportunity_scaled\"] = agg_p[\"Opportunity\"] / (agg_p[\"Opportunity\"].max() if agg_p[\"Opportunity\"].max() > 0 else 1)\n",
    "\n",
    "    agg_p = agg_p[[\"Pitch1\", \"Pitch2\", \"vas\", \"whiff_rate\", \"exit_v_allowed\", \"usage\", \"success\", \"SSI\", \"Opportunity\", \"Opportunity_scaled\"]]\n",
    "\n",
    "    print(f\"\\n=== {player_name.upper()} — Top Pitch Pairings by SSI ===\")\n",
    "    print(agg_p.sort_values(\"SSI\", ascending=False).head(10))\n",
    "\n",
    "    print(f\"\\n=== {player_name.upper()} — Top Pitch Pairings by Opportunity ===\")\n",
    "    print(agg_p.sort_values(\"Opportunity\", ascending=False).head(10))\n",
    "\n",
    "    if plot:\n",
    "        plt.figure(figsize=(8,6))\n",
    "        plt.scatter(agg_p[\"usage\"], agg_p[\"SSI\"], s=100*(1+agg_p[\"usage\"]))\n",
    "\n",
    "        for _, row in agg_p.iterrows():\n",
    "            plt.text(row[\"usage\"]+0.001, row[\"SSI\"]+0.001, f\"{row['Pitch1']}-{row['Pitch2']}\", fontsize=8)\n",
    "\n",
    "        plt.xlabel(\"Usage (Frequency of Sequence)\")\n",
    "        plt.ylabel(\"SSI (Sequence Strength Index)\")\n",
    "        plt.title(f\"{player_name} — Usage vs SSI\")\n",
    "        plt.grid(True)\n",
    "        plt.xlim(0, 0.12)\n",
    "        plt.ylim(0, 1)\n",
    "\n",
    "        plt.show()\n",
    "\n",
    "    if export:\n",
    "        os.makedirs(r\"C:\\Users\\brend\\pitch_api\\outputs\", exist_ok=True)\n",
    "        out_path = fr\"C:\\Users\\brend\\pitch_api\\outputs\\{player_name.replace(' ', '_')}_sequence_analysis.csv\"\n",
    "        agg_p.to_csv(out_path, index=False)\n",
    "        print(f\"Saved pitcher summary → {out_path}\")"
   ]
  },
  {
   "cell_type": "code",
   "execution_count": 7,
   "id": "c4a9f648-4606-4ae0-a131-3a5c62b98509",
   "metadata": {},
   "outputs": [
    {
     "name": "stdout",
     "output_type": "stream",
     "text": [
      "\n",
      "=== ECHEMAN, KADEN — Top Pitch Pairings by SSI ===\n",
      "       Pitch1     Pitch2       vas  whiff_rate  exit_v_allowed     usage  \\\n",
      "5   Four-Seam  Curveball  0.922110    0.464286             NaN  0.018603   \n",
      "2   Curveball  Four-Seam  0.922110    0.138889             NaN  0.018946   \n",
      "1   Curveball     Cutter  0.495973    0.160714       60.228760  0.004087   \n",
      "7   Four-Seam     Slider  0.633975    0.041667       76.384820  0.039669   \n",
      "4      Cutter  Four-Seam  0.326484    0.187500       93.562360  0.014401   \n",
      "8      Slider  Curveball  0.211561    0.156250             NaN  0.010772   \n",
      "10     Slider   Splitter  0.119190    0.062500             NaN  0.001585   \n",
      "3      Cutter     Cutter  0.000000    0.132353       81.542706  0.013751   \n",
      "6   Four-Seam  Four-Seam  0.000000    0.292857       85.853129  0.100405   \n",
      "9      Slider     Slider  0.000000    0.204545       90.703160  0.049715   \n",
      "\n",
      "     success       SSI  Opportunity  Opportunity_scaled  \n",
      "5   0.464286  0.747873     1.389754            0.825449  \n",
      "2   0.138889  0.617663     1.683634            1.000000  \n",
      "1   0.348022  0.511784     0.815987            0.484658  \n",
      "7   0.204959  0.511322     1.092867            0.649112  \n",
      "4   0.134572  0.348587     0.600263            0.356528  \n",
      "8   0.156250  0.306087     0.385864            0.229185  \n",
      "10  0.062500  0.228398     0.230565            0.136945  \n",
      "3   0.197893  0.227094     0.000000            0.000000  \n",
      "6   0.217403  0.221901     0.000000            0.000000  \n",
      "9   0.158684  0.206016     0.000000            0.000000  \n",
      "\n",
      "=== ECHEMAN, KADEN — Top Pitch Pairings by Opportunity ===\n",
      "       Pitch1     Pitch2       vas  whiff_rate  exit_v_allowed     usage  \\\n",
      "2   Curveball  Four-Seam  0.922110    0.138889             NaN  0.018946   \n",
      "5   Four-Seam  Curveball  0.922110    0.464286             NaN  0.018603   \n",
      "7   Four-Seam     Slider  0.633975    0.041667       76.384820  0.039669   \n",
      "1   Curveball     Cutter  0.495973    0.160714       60.228760  0.004087   \n",
      "4      Cutter  Four-Seam  0.326484    0.187500       93.562360  0.014401   \n",
      "8      Slider  Curveball  0.211561    0.156250             NaN  0.010772   \n",
      "10     Slider   Splitter  0.119190    0.062500             NaN  0.001585   \n",
      "0   Curveball  Curveball  0.000000    0.178571       93.690830  0.015642   \n",
      "3      Cutter     Cutter  0.000000    0.132353       81.542706  0.013751   \n",
      "6   Four-Seam  Four-Seam  0.000000    0.292857       85.853129  0.100405   \n",
      "\n",
      "     success       SSI  Opportunity  Opportunity_scaled  \n",
      "2   0.138889  0.617663     1.683634            1.000000  \n",
      "5   0.464286  0.747873     1.389754            0.825449  \n",
      "7   0.204959  0.511322     1.092867            0.649112  \n",
      "1   0.348022  0.511784     0.815987            0.484658  \n",
      "4   0.134572  0.348587     0.600263            0.356528  \n",
      "8   0.156250  0.306087     0.385864            0.229185  \n",
      "10  0.062500  0.228398     0.230565            0.136945  \n",
      "0   0.131040  0.200070     0.000000            0.000000  \n",
      "3   0.197893  0.227094     0.000000            0.000000  \n",
      "6   0.217403  0.221901     0.000000            0.000000  \n"
     ]
    },
    {
     "data": {
      "image/png": "[encoded data removed]",
      "text/plain": [
       "<Figure size 800x600 with 1 Axes>"
      ]
     },
     "metadata": {},
     "output_type": "display_data"
    },
    {
     "name": "stdout",
     "output_type": "stream",
     "text": [
      "Saved pitcher summary → C:\\Users\\brend\\pitch_api\\outputs\\Echeman,_Kaden_sequence_analysis.csv\n"
     ]
    }
   ],
   "source": [
    "analyze_pitcher(\"Echeman, Kaden\")"
   ]
  }
 ],
 "metadata": {
  "kernelspec": {
   "display_name": "Python 3 (ipykernel)",
   "language": "python",
   "name": "python3"
  },
  "language_info": {
   "codemirror_mode": {
    "name": "ipython",
    "version": 3
   },
   "file_extension": ".py",
   "mimetype": "text/x-python",
   "name": "python",
   "nbconvert_exporter": "python",
   "pygments_lexer": "ipython3",
   "version": "3.13.7"
  }
 },
 "nbformat": 4,
 "nbformat_minor": 5
}
