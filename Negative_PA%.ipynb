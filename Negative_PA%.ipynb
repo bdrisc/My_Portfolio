{
 "cells": [
  {
   "cell_type": "code",
   "execution_count": 40,
   "id": "b2a1269a-bbdd-4c0e-9cef-08b6f5e4da17",
   "metadata": {},
   "outputs": [],
   "source": [
    "import pandas as pd\n",
    "import matplotlib.pyplot as plt\n",
    "import numpy as np\n",
    "\n",
    "filepath = r\"C:\\Users\\brend\\OneDrive\\Desktop\\my-dashboard\\data\\2025 SB Fall Ball Logging.xlsx\"\n",
    "df = pd.read_excel(filepath)"
   ]
  },
  {
   "cell_type": "code",
   "execution_count": 41,
   "id": "523c44dc-166b-4ba6-915c-617fb3083d88",
   "metadata": {},
   "outputs": [
    {
     "name": "stdout",
     "output_type": "stream",
     "text": [
      "✅ Rows with AB results (completed PAs): 688 of 2633\n"
     ]
    }
   ],
   "source": [
    "cols = [\"Hitter\", \"AB Result\", \"BBT\", \"ExitVelocity\", \"HH\"]\n",
    "df = df[cols].copy()\n",
    "\n",
    "for c in [\"Hitter\", \"AB Result\", \"BBT\"]:\n",
    "    df[c] = df[c].apply(lambda x: x.strip() if isinstance(x, str) else x)\n",
    "\n",
    "df[\"AB_present\"] = df[\"AB Result\"].notna() & (df[\"AB Result\"].astype(str).str.strip() != \"\")\n",
    "print(\"✅ Rows with AB results (completed PAs):\", df[\"AB_present\"].sum(), \"of\", len(df))\n",
    "\n",
    "df = df.replace(np.nan, \"\")\n",
    "\n",
    "df[\"AB_result_clean\"] = df[\"AB Result\"].astype(str).str.upper().str.strip()\n",
    "df[\"BBT_clean\"] = df[\"BBT\"].astype(str).str.upper().str.strip()"
   ]
  },
  {
   "cell_type": "code",
   "execution_count": 42,
   "id": "11021def-b359-4f4c-ab03-822f3974f1f9",
   "metadata": {},
   "outputs": [],
   "source": [
    "def negative_components(row):\n",
    "    if not row[\"AB_present\"]:\n",
    "        return (False, 0, 0, 0)\n",
    "    \n",
    "    k = gb = iffb = 0\n",
    "    \n",
    "    if row[\"AB_result_clean\"] == \"K\":\n",
    "        k = 1\n",
    "        \n",
    "    if row[\"BBT_clean\"] == \"IFFB\":\n",
    "        iffb = 1\n",
    "        \n",
    "    if row[\"BBT_clean\"] == \"GB\":\n",
    "        try:\n",
    "            ev = float(row[\"ExitVelocity\"])\n",
    "            if ev <= 86:\n",
    "                gb = 1\n",
    "        except (ValueError, TypeError):\n",
    "            if row[\"HH\"] == 0:\n",
    "                gb = 1\n",
    "            elif row[\"HH\"] == 1:\n",
    "                gb = 0\n",
    "            else:\n",
    "                gb = 0\n",
    "    \n",
    "    negative = bool(k + gb + iffb)\n",
    "    return (negative, k, gb, iffb)\n",
    "\n",
    "df[[\"NegativePA\", \"Neg_K\", \"Neg_GB\", \"Neg_IFFB\"]] = df.apply(\n",
    "    negative_components, axis=1, result_type=\"expand\"\n",
    ")\n",
    "\n",
    "neg_pa = (\n",
    "    df[df[\"AB_present\"]]\n",
    "    .groupby(\"Hitter\", dropna=False)\n",
    "    .agg(\n",
    "        TotalPAs=(\"AB_present\", \"sum\"),\n",
    "        Neg_K=(\"Neg_K\", \"sum\"),\n",
    "        Neg_GB=(\"Neg_GB\", \"sum\"),\n",
    "        Neg_IFFB=(\"Neg_IFFB\", \"sum\"),\n",
    "        NegativePAs=(\"NegativePA\", \"sum\")\n",
    "    )\n",
    "    .reset_index()\n",
    ")\n",
    "\n",
    "neg_pa[\"Negative_PA%\"] = neg_pa.apply(\n",
    "    lambda r: (r[\"NegativePAs\"] / r[\"TotalPAs\"] * 100) if r[\"TotalPAs\"] > 0 else 0.0,\n",
    "    axis=1\n",
    ")\n",
    "\n",
    "median_val = neg_pa.loc[neg_pa[\"TotalPAs\"] > 0, \"Negative_PA%\"].median()\n",
    "neg_pa[\"Above_Median\"] = neg_pa[\"Negative_PA%\"] > median_val"
   ]
  },
  {
   "cell_type": "code",
   "execution_count": 43,
   "id": "8c09e7b5-b133-4268-9f65-953bd75fa67e",
   "metadata": {},
   "outputs": [
    {
     "name": "stdout",
     "output_type": "stream",
     "text": [
      "\n",
      "--- Highest Negative PA% (Struggling Hitters) ---\n",
      "           Hitter  TotalPAs  Neg_K  Neg_GB  Neg_IFFB  NegativePAs  Negative_PA%  Above_Median\n",
      "  Robinson, Kacin        30     11       5         1           17     56.666667          True\n",
      "     Durham, Noah        29      8       6         0           14     48.275862          True\n",
      " Rickert, Michael        25      7       3         2           12     48.000000          True\n",
      "    Redden, Tyler        23      5       5         1           11     47.826087          True\n",
      "   Connolly, Sean        21      7       3         0           10     47.619048          True\n",
      "     Bureau, John        35      9       5         1           15     42.857143          True\n",
      "Christopher, Will        28      8       4         0           12     42.857143          True\n",
      "    Kearney, Nate        39     11       4         1           16     41.025641          True\n",
      " Howland, Jamison        29      6       4         1           11     37.931034          True\n",
      "    Morrison, Cam        27      4       5         1           10     37.037037          True\n",
      "\n",
      "--- Lowest Negative PA% (Best Hitters) ---\n",
      "         Hitter  TotalPAs  Neg_K  Neg_GB  Neg_IFFB  NegativePAs  Negative_PA%  Above_Median\n",
      "Lundquist, Nick        27      2       2         1            5     18.518519         False\n",
      "                      139     31       0         0           31     22.302158         False\n",
      " Rader, Brayden        26      3       2         1            6     23.076923         False\n",
      "Enders, Jackson        29      6       1         0            7     24.137931         False\n",
      "  Leclair, Ryan        33      1       3         4            8     24.242424         False\n",
      "Romero, Armanis        25      3       3         1            7     28.000000         False\n",
      "     Chin, Esig        31      3       6         0            9     29.032258         False\n",
      "   Newton, Will        25      7       0         1            8     32.000000         False\n",
      "     Parks, Sam        34      9       3         0           12     35.294118         False\n",
      "    McGee, Sean        33      9       3         0           12     36.363636         False\n",
      "\n",
      "Total rows in raw data: 2633\n",
      "Rows with AB results (completed PAs): 688\n"
     ]
    }
   ],
   "source": [
    "highest_neg_pa = neg_pa.sort_values(by=\"Negative_PA%\", ascending=False)\n",
    "lowest_neg_pa = neg_pa.sort_values(by=\"Negative_PA%\", ascending=True)\n",
    "\n",
    "print(\"\\n--- Highest Negative PA% (Struggling Hitters) ---\")\n",
    "print(highest_neg_pa.head(10).to_string(index=False))\n",
    "\n",
    "print(\"\\n--- Lowest Negative PA% (Best Hitters) ---\")\n",
    "print(lowest_neg_pa.head(10).to_string(index=False))\n",
    "\n",
    "print(\"\\nTotal rows in raw data:\", len(df))\n",
    "print(\"Rows with AB results (completed PAs):\", df['AB_present'].sum())"
   ]
  },
  {
   "cell_type": "code",
   "execution_count": 39,
   "id": "5f82b733-42d8-4614-acae-bc617cc3e9b9",
   "metadata": {},
   "outputs": [],
   "source": [
    "neg_pa.to_csv(r\"C:\\Users\\brend\\OneDrive\\NegativePA_Results.csv\", index=False)"
   ]
  }
 ],
 "metadata": {
  "kernelspec": {
   "display_name": "Python 3 (ipykernel)",
   "language": "python",
   "name": "python3"
  },
  "language_info": {
   "codemirror_mode": {
    "name": "ipython",
    "version": 3
   },
   "file_extension": ".py",
   "mimetype": "text/x-python",
   "name": "python",
   "nbconvert_exporter": "python",
   "pygments_lexer": "ipython3",
   "version": "3.13.7"
  }
 },
 "nbformat": 4,
 "nbformat_minor": 5
}
