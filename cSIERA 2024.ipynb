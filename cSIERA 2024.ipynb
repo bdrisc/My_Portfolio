{
 "cells": [
  {
   "cell_type": "code",
   "execution_count": 24,
   "id": "ac00d754-9277-4c90-9525-617f72fc757a",
   "metadata": {},
   "outputs": [
    {
     "name": "stdout",
     "output_type": "stream",
     "text": [
      "                            OLS Regression Results                            \n",
      "==============================================================================\n",
      "Dep. Variable:                   RA/9   R-squared:                       0.235\n",
      "Model:                            OLS   Adj. R-squared:                  0.208\n",
      "Method:                 Least Squares   F-statistic:                     8.768\n",
      "Date:                Tue, 30 Sep 2025   Prob (F-statistic):           2.17e-09\n",
      "Time:                        14:20:24   Log-Likelihood:                -496.12\n",
      "No. Observations:                 208   AIC:                             1008.\n",
      "Df Residuals:                     200   BIC:                             1035.\n",
      "Df Model:                           7                                         \n",
      "Covariance Type:            nonrobust                                         \n",
      "=======================================================================================\n",
      "                          coef    std err          t      P>|t|      [0.025      0.975]\n",
      "---------------------------------------------------------------------------------------\n",
      "const                   6.8094      1.470      4.634      0.000       3.912       9.707\n",
      "SO_PA                 -13.3740     10.503     -1.273      0.204     -34.085       7.337\n",
      "BB_PA                  16.8621      3.847      4.383      0.000       9.275      24.449\n",
      "GB_FB_PU_PA            10.0163      6.766      1.480      0.140      -3.327      23.359\n",
      "SO_PA_sq                4.2882     19.624      0.219      0.827     -34.408      42.984\n",
      "GB_FB_PU_PA_sq         -9.7459     10.059     -0.969      0.334     -29.582      10.090\n",
      "SO_PA_x_GB_FB_PU_PA   -29.2185     21.630     -1.351      0.178     -71.870      13.433\n",
      "BB_PA_x_GB_FB_PU_PA   -33.0850     33.251     -0.995      0.321     -98.653      32.483\n",
      "==============================================================================\n",
      "Omnibus:                       17.392   Durbin-Watson:                   1.982\n",
      "Prob(Omnibus):                  0.000   Jarque-Bera (JB):               19.565\n",
      "Skew:                           0.662   Prob(JB):                     5.64e-05\n",
      "Kurtosis:                       3.711   Cond. No.                         188.\n",
      "==============================================================================\n",
      "\n",
      "Notes:\n",
      "[1] Standard Errors assume that the covariance matrix of the errors is correctly specified.\n"
     ]
    }
   ],
   "source": [
    "import pandas as pd\n",
    "import statsmodels.api as sm\n",
    "\n",
    "df = pd.read_excel(\n",
    "    r\"C:\\Users\\brend\\OneDrive - Stonehill College\\Documents\\Cape_League\\cape_cod_pbp_2024.xlsx\",\n",
    "    sheet_name=1\n",
    ")\n",
    "\n",
    "X = pd.DataFrame({\n",
    "    'SO_PA': df['SO'] / df['BF'],\n",
    "    'BB_PA': df['BB'] / df['BF'],\n",
    "    'GB_FB_PU_PA': (df['GB'] - df['FB'] - df['PU']) / df['BF']\n",
    "})\n",
    "\n",
    "X['SO_PA_sq'] = X['SO_PA'] ** 2\n",
    "X['GB_FB_PU_PA_sq'] = X['GB_FB_PU_PA'] ** 2\n",
    "X['SO_PA_x_GB_FB_PU_PA'] = X['SO_PA'] * X['GB_FB_PU_PA']\n",
    "X['BB_PA_x_GB_FB_PU_PA'] = X['BB_PA'] * X['GB_FB_PU_PA']\n",
    "\n",
    "y = df['RA/9']\n",
    "\n",
    "X = sm.add_constant(X)\n",
    "\n",
    "model = sm.OLS(y, X).fit()\n",
    "\n",
    "print(model.summary())"
   ]
  },
  {
   "cell_type": "code",
   "execution_count": 25,
   "id": "b929813d-fe62-45e3-828a-1a6e35aff150",
   "metadata": {},
   "outputs": [
    {
     "name": "stdout",
     "output_type": "stream",
     "text": [
      "         RA/9  Predicted_RA9\n",
      "0   10.285714       8.333472\n",
      "1    5.000000       6.595410\n",
      "2    1.421240       5.494893\n",
      "3    9.980431       7.050873\n",
      "4    5.538462       7.849694\n",
      "5    2.812500       3.490608\n",
      "6    6.230769       6.338889\n",
      "7    2.346806       7.408777\n",
      "8    5.267008       5.262401\n",
      "9   11.374408       4.003501\n",
      "10   7.434783       5.859699\n",
      "11   4.321729       8.487270\n",
      "12   4.379562       3.340353\n",
      "13   6.545455       5.914839\n",
      "14   6.428571       5.726645\n",
      "15   3.000000       5.421384\n",
      "16   4.109589       5.037981\n",
      "17   2.553709       5.443892\n",
      "18   7.172996       4.640804\n",
      "19  10.500000       9.220192\n"
     ]
    }
   ],
   "source": [
    "df['Predicted_RA9'] = model.predict(X)\n",
    "\n",
    "print(df[['RA/9', 'Predicted_RA9']].head(20))"
   ]
  },
  {
   "cell_type": "code",
   "execution_count": 27,
   "id": "d4f0d8b7-e109-4563-8991-64449f998ee6",
   "metadata": {},
   "outputs": [
    {
     "name": "stdout",
     "output_type": "stream",
     "text": [
      "                  Name       RA/9  CCBL_SIERA\n",
      "0      A.J. Colarusso*  10.285714    8.333460\n",
      "1      Aaron Mishoulam   5.000000    6.595388\n",
      "2         Aaron Savary   1.421240    5.494866\n",
      "3         Aidan Hunter   9.980431    7.050855\n",
      "4        Aiden Moffett   5.538462    7.849672\n",
      "5         Aiven Cabral   2.812500    3.490581\n",
      "6        Alex Kranzler   6.230769    6.338869\n",
      "7   Alizaeh Gutierrez*   2.346806    7.408761\n",
      "8         Andres Galan   5.267008    5.262381\n",
      "9       Andrew Behnke*  11.374408    4.003476\n",
      "10        Andrew Evans   7.434783    5.859681\n",
      "11    Andrew Williams*   4.321729    8.487252\n",
      "12       Anthony Susac   4.379562    3.340324\n",
      "13    Ashton Crowther*   6.545455    5.914822\n",
      "14        Augie Mojica   6.428571    5.726626\n",
      "15        Beau Bryans*   3.000000    5.421362\n",
      "16           Ben Bybee   4.109589    5.037960\n",
      "17         Blaine Wynk   2.553709    5.443871\n",
      "18   Blake Morningstar   7.172996    4.640778\n",
      "19     Boston Flannery  10.500000    9.220179\n"
     ]
    }
   ],
   "source": [
    "def calculate_ccbl_siera(df):\n",
    "\n",
    "    df = df.copy()\n",
    "    \n",
    "    df['SO_PA'] = df['SO'] / df['BF']\n",
    "    df['BB_PA'] = df['BB'] / df['BF']\n",
    "    df['GB_FB_PU_PA'] = (df['GB'] - df['FB'] - df['PU']) / df['BF']\n",
    "    \n",
    "    df['SO_PA_sq'] = df['SO_PA'] ** 2\n",
    "    df['GB_FB_PU_PA_sq'] = df['GB_FB_PU_PA'] ** 2\n",
    "    df['SO_PA_x_GB_FB_PU_PA'] = df['SO_PA'] * df['GB_FB_PU_PA']\n",
    "    df['BB_PA_x_GB_FB_PU_PA'] = df['BB_PA'] * df['GB_FB_PU_PA']\n",
    "    \n",
    "    df['CCBL_SIERA'] = (\n",
    "        6.8094\n",
    "        - 13.3740 * df['SO_PA']\n",
    "        + 16.8621 * df['BB_PA']\n",
    "        + 10.0163 * df['GB_FB_PU_PA']\n",
    "        + 4.2882 * df['SO_PA_sq']\n",
    "        - 9.7459 * df['GB_FB_PU_PA_sq']\n",
    "        - 29.2185 * df['SO_PA_x_GB_FB_PU_PA']\n",
    "        - 33.0850 * df['BB_PA_x_GB_FB_PU_PA']\n",
    "    )\n",
    "    \n",
    "    return df\n",
    "\n",
    "df = calculate_ccbl_siera(df)\n",
    "\n",
    "print(df[['Name', 'RA/9', 'CCBL_SIERA']].head(20))"
   ]
  },
  {
   "cell_type": "code",
   "execution_count": null,
   "id": "7be2c712-3dcf-47d0-84b6-0b524208755c",
   "metadata": {},
   "outputs": [],
   "source": []
  }
 ],
 "metadata": {
  "kernelspec": {
   "display_name": "Python 3 (ipykernel)",
   "language": "python",
   "name": "python3"
  },
  "language_info": {
   "codemirror_mode": {
    "name": "ipython",
    "version": 3
   },
   "file_extension": ".py",
   "mimetype": "text/x-python",
   "name": "python",
   "nbconvert_exporter": "python",
   "pygments_lexer": "ipython3",
   "version": "3.13.7"
  }
 },
 "nbformat": 4,
 "nbformat_minor": 5
}
